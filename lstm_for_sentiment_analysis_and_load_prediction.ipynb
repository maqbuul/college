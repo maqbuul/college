{
  "cells": [
    {
      "cell_type": "markdown",
      "metadata": {
        "id": "view-in-github",
        "colab_type": "text"
      },
      "source": [
        "<a href=\"https://colab.research.google.com/github/maqbuul/college/blob/main/lstm_for_sentiment_analysis_and_load_prediction.ipynb\" target=\"_parent\"><img src=\"https://colab.research.google.com/assets/colab-badge.svg\" alt=\"Open In Colab\"/></a>"
      ]
    },
    {
      "cell_type": "code",
      "execution_count": null,
      "id": "3e4cd459",
      "metadata": {
        "id": "3e4cd459"
      },
      "outputs": [],
      "source": [
        "import numpy as np\n",
        "import pandas as pd\n",
        "import re\n",
        "\n",
        "from gensim.models import Word2Vec\n",
        "from sklearn.manifold import TSNE\n",
        "\n",
        "from sklearn.feature_extraction.text import CountVectorizer\n",
        "from keras.preprocessing.text import Tokenizer\n",
        "\n",
        "from keras.utils import pad_sequences\n",
        "\n",
        "from keras.layers import Dense, Embedding, LSTM, SpatialDropout1D, Input\n",
        "from keras.models import Model\n",
        "from sklearn.model_selection import train_test_split\n",
        "from keras.utils import to_categorical\n",
        "\n",
        "import matplotlib.pyplot as plt\n",
        "import seaborn as sns\n",
        "from warnings import simplefilter\n"
      ]
    },
    {
      "cell_type": "code",
      "execution_count": null,
      "id": "a78478cf",
      "metadata": {
        "id": "a78478cf"
      },
      "outputs": [],
      "source": [
        "data_train = pd.read_csv(\"SentimentAnalysisTrain.csv\")\n",
        "data_test = pd.read_csv(\"SentimentAnalysisTest.csv\")"
      ]
    },
    {
      "cell_type": "code",
      "execution_count": null,
      "id": "9df07cbb",
      "metadata": {
        "id": "9df07cbb",
        "outputId": "faadfc6b-d989-4803-951c-0150ac83b06d"
      },
      "outputs": [
        {
          "data": {
            "text/html": [
              "<div>\n",
              "<style scoped>\n",
              "    .dataframe tbody tr th:only-of-type {\n",
              "        vertical-align: middle;\n",
              "    }\n",
              "\n",
              "    .dataframe tbody tr th {\n",
              "        vertical-align: top;\n",
              "    }\n",
              "\n",
              "    .dataframe thead th {\n",
              "        text-align: right;\n",
              "    }\n",
              "</style>\n",
              "<table border=\"1\" class=\"dataframe\">\n",
              "  <thead>\n",
              "    <tr style=\"text-align: right;\">\n",
              "      <th></th>\n",
              "      <th>textID</th>\n",
              "      <th>text</th>\n",
              "      <th>selected_text</th>\n",
              "      <th>sentiment</th>\n",
              "      <th>Time of Tweet</th>\n",
              "      <th>Age of User</th>\n",
              "      <th>Country</th>\n",
              "      <th>Population -2020</th>\n",
              "      <th>Land Area (Km�)</th>\n",
              "      <th>Density (P/Km�)</th>\n",
              "    </tr>\n",
              "  </thead>\n",
              "  <tbody>\n",
              "    <tr>\n",
              "      <th>0</th>\n",
              "      <td>cb774db0d1</td>\n",
              "      <td>I`d have responded, if I were going</td>\n",
              "      <td>I`d have responded, if I were going</td>\n",
              "      <td>neutral</td>\n",
              "      <td>morning</td>\n",
              "      <td>0-20</td>\n",
              "      <td>Afghanistan</td>\n",
              "      <td>38928346</td>\n",
              "      <td>652860.0</td>\n",
              "      <td>60</td>\n",
              "    </tr>\n",
              "    <tr>\n",
              "      <th>1</th>\n",
              "      <td>549e992a42</td>\n",
              "      <td>Sooo SAD I will miss you here in San Diego!!!</td>\n",
              "      <td>Sooo SAD</td>\n",
              "      <td>negative</td>\n",
              "      <td>noon</td>\n",
              "      <td>21-30</td>\n",
              "      <td>Albania</td>\n",
              "      <td>2877797</td>\n",
              "      <td>27400.0</td>\n",
              "      <td>105</td>\n",
              "    </tr>\n",
              "    <tr>\n",
              "      <th>2</th>\n",
              "      <td>088c60f138</td>\n",
              "      <td>my boss is bullying me...</td>\n",
              "      <td>bullying me</td>\n",
              "      <td>negative</td>\n",
              "      <td>night</td>\n",
              "      <td>31-45</td>\n",
              "      <td>Algeria</td>\n",
              "      <td>43851044</td>\n",
              "      <td>2381740.0</td>\n",
              "      <td>18</td>\n",
              "    </tr>\n",
              "    <tr>\n",
              "      <th>3</th>\n",
              "      <td>9642c003ef</td>\n",
              "      <td>what interview! leave me alone</td>\n",
              "      <td>leave me alone</td>\n",
              "      <td>negative</td>\n",
              "      <td>morning</td>\n",
              "      <td>46-60</td>\n",
              "      <td>Andorra</td>\n",
              "      <td>77265</td>\n",
              "      <td>470.0</td>\n",
              "      <td>164</td>\n",
              "    </tr>\n",
              "    <tr>\n",
              "      <th>4</th>\n",
              "      <td>358bd9e861</td>\n",
              "      <td>Sons of ****, why couldn`t they put them on t...</td>\n",
              "      <td>Sons of ****,</td>\n",
              "      <td>negative</td>\n",
              "      <td>noon</td>\n",
              "      <td>60-70</td>\n",
              "      <td>Angola</td>\n",
              "      <td>32866272</td>\n",
              "      <td>1246700.0</td>\n",
              "      <td>26</td>\n",
              "    </tr>\n",
              "  </tbody>\n",
              "</table>\n",
              "</div>"
            ],
            "text/plain": [
              "       textID                                               text  \\\n",
              "0  cb774db0d1                I`d have responded, if I were going   \n",
              "1  549e992a42      Sooo SAD I will miss you here in San Diego!!!   \n",
              "2  088c60f138                          my boss is bullying me...   \n",
              "3  9642c003ef                     what interview! leave me alone   \n",
              "4  358bd9e861   Sons of ****, why couldn`t they put them on t...   \n",
              "\n",
              "                         selected_text sentiment Time of Tweet Age of User  \\\n",
              "0  I`d have responded, if I were going   neutral       morning        0-20   \n",
              "1                             Sooo SAD  negative          noon       21-30   \n",
              "2                          bullying me  negative         night       31-45   \n",
              "3                       leave me alone  negative       morning       46-60   \n",
              "4                        Sons of ****,  negative          noon       60-70   \n",
              "\n",
              "       Country  Population -2020  Land Area (Km�)  Density (P/Km�)  \n",
              "0  Afghanistan          38928346         652860.0               60  \n",
              "1      Albania           2877797          27400.0              105  \n",
              "2      Algeria          43851044        2381740.0               18  \n",
              "3      Andorra             77265            470.0              164  \n",
              "4       Angola          32866272        1246700.0               26  "
            ]
          },
          "execution_count": 93,
          "metadata": {},
          "output_type": "execute_result"
        }
      ],
      "source": [
        "data_train.head()"
      ]
    },
    {
      "cell_type": "code",
      "execution_count": null,
      "id": "4fca6a38",
      "metadata": {
        "id": "4fca6a38",
        "outputId": "7535cc31-8c03-40da-8ae2-24eaa7d50f82"
      },
      "outputs": [
        {
          "data": {
            "text/html": [
              "<div>\n",
              "<style scoped>\n",
              "    .dataframe tbody tr th:only-of-type {\n",
              "        vertical-align: middle;\n",
              "    }\n",
              "\n",
              "    .dataframe tbody tr th {\n",
              "        vertical-align: top;\n",
              "    }\n",
              "\n",
              "    .dataframe thead th {\n",
              "        text-align: right;\n",
              "    }\n",
              "</style>\n",
              "<table border=\"1\" class=\"dataframe\">\n",
              "  <thead>\n",
              "    <tr style=\"text-align: right;\">\n",
              "      <th></th>\n",
              "      <th>textID</th>\n",
              "      <th>text</th>\n",
              "      <th>sentiment</th>\n",
              "      <th>Time of Tweet</th>\n",
              "      <th>Age of User</th>\n",
              "      <th>Country</th>\n",
              "      <th>Population -2020</th>\n",
              "      <th>Land Area (Km²)</th>\n",
              "      <th>Density (P/Km²)</th>\n",
              "    </tr>\n",
              "  </thead>\n",
              "  <tbody>\n",
              "    <tr>\n",
              "      <th>0</th>\n",
              "      <td>f87dea47db</td>\n",
              "      <td>Last session of the day  http://twitpic.com/67ezh</td>\n",
              "      <td>neutral</td>\n",
              "      <td>morning</td>\n",
              "      <td>0-20</td>\n",
              "      <td>Afghanistan</td>\n",
              "      <td>38928346</td>\n",
              "      <td>652860.0</td>\n",
              "      <td>60</td>\n",
              "    </tr>\n",
              "    <tr>\n",
              "      <th>1</th>\n",
              "      <td>96d74cb729</td>\n",
              "      <td>Shanghai is also really exciting (precisely --...</td>\n",
              "      <td>positive</td>\n",
              "      <td>noon</td>\n",
              "      <td>21-30</td>\n",
              "      <td>Albania</td>\n",
              "      <td>2877797</td>\n",
              "      <td>27400.0</td>\n",
              "      <td>105</td>\n",
              "    </tr>\n",
              "    <tr>\n",
              "      <th>2</th>\n",
              "      <td>eee518ae67</td>\n",
              "      <td>Recession hit Veronique Branquinho, she has to...</td>\n",
              "      <td>negative</td>\n",
              "      <td>night</td>\n",
              "      <td>31-45</td>\n",
              "      <td>Algeria</td>\n",
              "      <td>43851044</td>\n",
              "      <td>2381740.0</td>\n",
              "      <td>18</td>\n",
              "    </tr>\n",
              "    <tr>\n",
              "      <th>3</th>\n",
              "      <td>01082688c6</td>\n",
              "      <td>happy bday!</td>\n",
              "      <td>positive</td>\n",
              "      <td>morning</td>\n",
              "      <td>46-60</td>\n",
              "      <td>Andorra</td>\n",
              "      <td>77265</td>\n",
              "      <td>470.0</td>\n",
              "      <td>164</td>\n",
              "    </tr>\n",
              "    <tr>\n",
              "      <th>4</th>\n",
              "      <td>33987a8ee5</td>\n",
              "      <td>http://twitpic.com/4w75p - I like it!!</td>\n",
              "      <td>positive</td>\n",
              "      <td>noon</td>\n",
              "      <td>60-70</td>\n",
              "      <td>Angola</td>\n",
              "      <td>32866272</td>\n",
              "      <td>1246700.0</td>\n",
              "      <td>26</td>\n",
              "    </tr>\n",
              "  </tbody>\n",
              "</table>\n",
              "</div>"
            ],
            "text/plain": [
              "       textID                                               text sentiment  \\\n",
              "0  f87dea47db  Last session of the day  http://twitpic.com/67ezh   neutral   \n",
              "1  96d74cb729  Shanghai is also really exciting (precisely --...  positive   \n",
              "2  eee518ae67  Recession hit Veronique Branquinho, she has to...  negative   \n",
              "3  01082688c6                                        happy bday!  positive   \n",
              "4  33987a8ee5             http://twitpic.com/4w75p - I like it!!  positive   \n",
              "\n",
              "  Time of Tweet Age of User      Country  Population -2020  Land Area (Km²)  \\\n",
              "0       morning        0-20  Afghanistan          38928346         652860.0   \n",
              "1          noon       21-30      Albania           2877797          27400.0   \n",
              "2         night       31-45      Algeria          43851044        2381740.0   \n",
              "3       morning       46-60      Andorra             77265            470.0   \n",
              "4          noon       60-70       Angola          32866272        1246700.0   \n",
              "\n",
              "   Density (P/Km²)  \n",
              "0               60  \n",
              "1              105  \n",
              "2               18  \n",
              "3              164  \n",
              "4               26  "
            ]
          },
          "execution_count": 94,
          "metadata": {},
          "output_type": "execute_result"
        }
      ],
      "source": [
        "data_test.head()"
      ]
    },
    {
      "cell_type": "code",
      "execution_count": null,
      "id": "efb08f0d",
      "metadata": {
        "id": "efb08f0d"
      },
      "outputs": [],
      "source": [
        "train_data = data_train[['selected_text','sentiment']]"
      ]
    },
    {
      "cell_type": "markdown",
      "id": "ff0cd3cb",
      "metadata": {
        "id": "ff0cd3cb"
      },
      "source": [
        "#cleaning of test data"
      ]
    },
    {
      "cell_type": "code",
      "execution_count": null,
      "id": "99f76e68",
      "metadata": {
        "id": "99f76e68"
      },
      "outputs": [],
      "source": [
        "test_data = data_test[['text','sentiment']]"
      ]
    },
    {
      "cell_type": "code",
      "execution_count": null,
      "id": "ec2ae03d",
      "metadata": {
        "id": "ec2ae03d",
        "outputId": "426a5078-c8ea-4eff-8d1f-e6d7b1d8494c"
      },
      "outputs": [
        {
          "name": "stderr",
          "output_type": "stream",
          "text": [
            "C:\\Users\\me\\AppData\\Local\\Temp\\ipykernel_11464\\3608860882.py:1: SettingWithCopyWarning: \n",
            "A value is trying to be set on a copy of a slice from a DataFrame.\n",
            "Try using .loc[row_indexer,col_indexer] = value instead\n",
            "\n",
            "See the caveats in the documentation: https://pandas.pydata.org/pandas-docs/stable/user_guide/indexing.html#returning-a-view-versus-a-copy\n",
            "  test_data['text'] = test_data['text'].apply(lambda x: x.lower())\n",
            "C:\\Users\\me\\AppData\\Local\\Temp\\ipykernel_11464\\3608860882.py:2: SettingWithCopyWarning: \n",
            "A value is trying to be set on a copy of a slice from a DataFrame.\n",
            "Try using .loc[row_indexer,col_indexer] = value instead\n",
            "\n",
            "See the caveats in the documentation: https://pandas.pydata.org/pandas-docs/stable/user_guide/indexing.html#returning-a-view-versus-a-copy\n",
            "  test_data['text'] = test_data['text'].apply((lambda x: re.sub('[^a-zA-z0-9\\s]','',x)))\n"
          ]
        }
      ],
      "source": [
        "test_data['text'] = test_data['text'].apply(lambda x: x.lower())\n",
        "test_data['text'] = test_data['text'].apply((lambda x: re.sub('[^a-zA-z0-9\\s]','',x)))"
      ]
    },
    {
      "cell_type": "code",
      "execution_count": null,
      "id": "24f77335",
      "metadata": {
        "id": "24f77335"
      },
      "outputs": [],
      "source": [
        " df = train_data"
      ]
    },
    {
      "cell_type": "code",
      "execution_count": null,
      "id": "735b58c5",
      "metadata": {
        "id": "735b58c5",
        "outputId": "8267c10f-13b0-49cf-bf9a-3b3719a7ec96"
      },
      "outputs": [
        {
          "name": "stderr",
          "output_type": "stream",
          "text": [
            "C:\\Users\\me\\AppData\\Local\\Temp\\ipykernel_11464\\290089356.py:1: SettingWithCopyWarning: \n",
            "A value is trying to be set on a copy of a slice from a DataFrame.\n",
            "Try using .loc[row_indexer,col_indexer] = value instead\n",
            "\n",
            "See the caveats in the documentation: https://pandas.pydata.org/pandas-docs/stable/user_guide/indexing.html#returning-a-view-versus-a-copy\n",
            "  df['selected_text'] = df['selected_text'].apply(str)\n"
          ]
        }
      ],
      "source": [
        "df['selected_text'] = df['selected_text'].apply(str)"
      ]
    },
    {
      "cell_type": "code",
      "execution_count": null,
      "id": "f803a14d",
      "metadata": {
        "id": "f803a14d"
      },
      "outputs": [],
      "source": [
        "input_data = []\n",
        "\n",
        "for i in range(df.shape[0]):\n",
        "  input_data.append(df['selected_text'][i].split())"
      ]
    },
    {
      "cell_type": "code",
      "execution_count": null,
      "id": "1196dff2",
      "metadata": {
        "id": "1196dff2",
        "outputId": "9cbe1274-0f6e-4f26-a9f0-3a1a30618d06"
      },
      "outputs": [
        {
          "data": {
            "text/plain": [
              "['I`d', 'have', 'responded,', 'if', 'I', 'were', 'going']"
            ]
          },
          "execution_count": 108,
          "metadata": {},
          "output_type": "execute_result"
        }
      ],
      "source": [
        "input_data[0]"
      ]
    },
    {
      "cell_type": "code",
      "execution_count": null,
      "id": "98b78066",
      "metadata": {
        "id": "98b78066"
      },
      "outputs": [],
      "source": [
        "model = Word2Vec(\n",
        "        input_data,\n",
        "        vector_size=300,\n",
        "        window=10,\n",
        "        min_count=2,\n",
        "        workers=10)"
      ]
    },
    {
      "cell_type": "code",
      "execution_count": null,
      "id": "1d7d90d2",
      "metadata": {
        "id": "1d7d90d2"
      },
      "outputs": [],
      "source": [
        "vectors = np.asarray(model.wv.vectors)\n",
        "labels = np.asarray(model.wv.index_to_key)"
      ]
    },
    {
      "cell_type": "code",
      "execution_count": null,
      "id": "51623d9d",
      "metadata": {
        "id": "51623d9d",
        "outputId": "8941175c-e353-45e9-a49d-fccc8dd80286"
      },
      "outputs": [
        {
          "data": {
            "text/plain": [
              "9517"
            ]
          },
          "execution_count": 111,
          "metadata": {},
          "output_type": "execute_result"
        }
      ],
      "source": [
        "len(labels)"
      ]
    },
    {
      "cell_type": "code",
      "execution_count": null,
      "id": "4f3a6eeb",
      "metadata": {
        "id": "4f3a6eeb",
        "outputId": "49d2ac2c-b531-4b22-95c8-d45e6f21ce6f"
      },
      "outputs": [
        {
          "data": {
            "text/plain": [
              "array(['to', 'I', 'the', 'a', 'my', 'i', 'and', 'you', 'is', 'in', 'for',\n",
              "       'it', 'of', 'on', 'have', 'me', 'so', 'that', 'be', 'but', 'with',\n",
              "       'not', 'I`m', 'at', 'just', 'was', 'good', 'get', 'like', 'love',\n",
              "       'are', 'this', 'all', 'out', 'day', 'up', 'go', 'no', 'your', 'do',\n",
              "       'got', 'don`t', 'going', 'miss', '****', 'from', 'now', 'work',\n",
              "       '-', 'really'], dtype='<U26')"
            ]
          },
          "execution_count": 112,
          "metadata": {},
          "output_type": "execute_result"
        }
      ],
      "source": [
        "labels[:50]"
      ]
    },
    {
      "cell_type": "code",
      "execution_count": null,
      "id": "952d57f8",
      "metadata": {
        "id": "952d57f8",
        "outputId": "df6d083a-7cf8-45a7-f889-37b72b0102e0"
      },
      "outputs": [
        {
          "data": {
            "text/plain": [
              "[('having', 0.9996640086174011),\n",
              " ('fun', 0.9996562600135803),\n",
              " ('pretty', 0.9995763301849365),\n",
              " ('feeling', 0.9995351433753967),\n",
              " ('nice', 0.9994869232177734),\n",
              " ('Its', 0.9994701743125916),\n",
              " ('its', 0.9994432330131531),\n",
              " ('Not', 0.9994136095046997),\n",
              " ('it`s', 0.9994006156921387),\n",
              " ('This', 0.9993513226509094)]"
            ]
          },
          "execution_count": 114,
          "metadata": {},
          "output_type": "execute_result"
        }
      ],
      "source": [
        "model.wv.most_similar(positive=[\"good\"])"
      ]
    },
    {
      "cell_type": "code",
      "execution_count": null,
      "id": "6f37efd2",
      "metadata": {
        "id": "6f37efd2"
      },
      "outputs": [],
      "source": [
        "def reduce_dimensions(model):\n",
        "    num_dimensions = 2\n",
        "\n",
        "    vectors = np.asarray(model.wv.vectors)\n",
        "    labels = np.asarray(model.wv.index_to_key)  # fixed-width numpy strings\n",
        "\n",
        "    # reduce using t-SNE\n",
        "    tsne = TSNE(n_components=num_dimensions, random_state=0)\n",
        "    vectors = tsne.fit_transform(vectors)\n",
        "\n",
        "    x_vals = [v[0] for v in vectors]\n",
        "    y_vals = [v[1] for v in vectors]\n",
        "    return x_vals, y_vals, labels\n",
        "\n",
        "x_vals, y_vals, labels = reduce_dimensions(model)"
      ]
    },
    {
      "cell_type": "code",
      "execution_count": null,
      "id": "78dca13a",
      "metadata": {
        "id": "78dca13a",
        "outputId": "d1e955e3-0295-4582-c7c9-0eac74a3f9a0"
      },
      "outputs": [
        {
          "data": {
            "image/png": "[encoded data removed]",
            "text/plain": [
              "<Figure size 1200x1200 with 1 Axes>"
            ]
          },
          "metadata": {},
          "output_type": "display_data"
        }
      ],
      "source": [
        "def plot_with_matplotlib(x_vals, y_vals, labels):\n",
        "    import matplotlib.pyplot as plt\n",
        "    import random\n",
        "\n",
        "    random.seed(0)\n",
        "\n",
        "    plt.figure(figsize=(12, 12))\n",
        "    plt.scatter(x_vals, y_vals)\n",
        "\n",
        "    indices = list(range(len(labels)))\n",
        "    selected_indices = random.sample(indices, 25)\n",
        "    for i in selected_indices:\n",
        "        plt.annotate(labels[i], (x_vals[i], y_vals[i]))\n",
        "\n",
        "\n",
        "plot_with_matplotlib(x_vals, y_vals, labels)"
      ]
    },
    {
      "cell_type": "code",
      "execution_count": null,
      "id": "39106c54",
      "metadata": {
        "id": "39106c54",
        "outputId": "debda2dc-2d0e-4329-9477-c5e4a8bfb9f5"
      },
      "outputs": [
        {
          "data": {
            "text/plain": [
              "0         neutral\n",
              "1        negative\n",
              "2        negative\n",
              "3        negative\n",
              "4        negative\n",
              "           ...   \n",
              "27476    negative\n",
              "27477    negative\n",
              "27478    positive\n",
              "27479    positive\n",
              "27480     neutral\n",
              "Name: sentiment, Length: 27481, dtype: object"
            ]
          },
          "execution_count": 117,
          "metadata": {},
          "output_type": "execute_result"
        }
      ],
      "source": [
        "df['sentiment']"
      ]
    },
    {
      "cell_type": "code",
      "execution_count": null,
      "id": "8c601754",
      "metadata": {
        "id": "8c601754"
      },
      "outputs": [],
      "source": [
        "tokenizer = Tokenizer(num_words=2000, split=' ')\n",
        "tokenizer.fit_on_texts(df['selected_text'].values)\n",
        "\n",
        "X = tokenizer.texts_to_sequences(df['selected_text'].values)\n",
        "X = pad_sequences(X)"
      ]
    },
    {
      "cell_type": "code",
      "execution_count": null,
      "id": "25aa0b61",
      "metadata": {
        "id": "25aa0b61",
        "outputId": "a8e65d7b-34a4-48b7-f1b4-3da3d899b114"
      },
      "outputs": [
        {
          "data": {
            "text/plain": [
              "(27481, 34)"
            ]
          },
          "execution_count": 119,
          "metadata": {},
          "output_type": "execute_result"
        }
      ],
      "source": [
        "X.shape"
      ]
    },
    {
      "cell_type": "code",
      "execution_count": null,
      "id": "45f45781",
      "metadata": {
        "id": "45f45781",
        "outputId": "3f6806dc-6150-4e99-8e1c-11377fb2db18"
      },
      "outputs": [
        {
          "name": "stdout",
          "output_type": "stream",
          "text": [
            "Model: \"model\"\n",
            "_________________________________________________________________\n",
            " Layer (type)                Output Shape              Param #   \n",
            "=================================================================\n",
            " input_1 (InputLayer)        [(None, 34)]              0         \n",
            "                                                                 \n",
            " embedding (Embedding)       (None, 34, 128)           256000    \n",
            "                                                                 \n",
            " spatial_dropout1d (Spatial  (None, 34, 128)           0         \n",
            " Dropout1D)                                                      \n",
            "                                                                 \n",
            " lstm (LSTM)                 (None, 196)               254800    \n",
            "                                                                 \n",
            " dense (Dense)               (None, 3)                 591       \n",
            "                                                                 \n",
            "=================================================================\n",
            "Total params: 511391 (1.95 MB)\n",
            "Trainable params: 511391 (1.95 MB)\n",
            "Non-trainable params: 0 (0.00 Byte)\n",
            "_________________________________________________________________\n",
            "None\n"
          ]
        }
      ],
      "source": [
        "inputs = Input(X.shape[1])\n",
        "x = Embedding(2000, 128,input_length = X.shape[1])(inputs)\n",
        "x = SpatialDropout1D(0.4)(x)\n",
        "x = LSTM(196, dropout=0.2, recurrent_dropout=0.2)(x)\n",
        "outputs = Dense(3, activation = 'softmax')(x)\n",
        "model = Model(inputs, outputs)\n",
        "model.compile(loss = 'categorical_crossentropy', optimizer='adam',metrics = ['accuracy'])\n",
        "print(model.summary())"
      ]
    },
    {
      "cell_type": "code",
      "execution_count": null,
      "id": "7022e8cd",
      "metadata": {
        "id": "7022e8cd"
      },
      "outputs": [],
      "source": [
        "y = pd.get_dummies(df['sentiment']).values"
      ]
    },
    {
      "cell_type": "code",
      "execution_count": null,
      "id": "5caccd6c",
      "metadata": {
        "id": "5caccd6c",
        "outputId": "49eb7c9e-9be1-4c8c-9c5b-c488334edc65"
      },
      "outputs": [
        {
          "name": "stdout",
          "output_type": "stream",
          "text": [
            "(18412, 34) (18412, 3)\n",
            "(9069, 34) (9069, 3)\n"
          ]
        }
      ],
      "source": [
        "X_train, X_test, y_train, y_test = train_test_split(X,y, test_size = 0.33, random_state = 42)\n",
        "\n",
        "# print X , y Shape\n",
        "print(X_train.shape,y_train.shape)\n",
        "print(X_test.shape,y_test.shape)"
      ]
    },
    {
      "cell_type": "code",
      "execution_count": null,
      "id": "8d6780e8",
      "metadata": {
        "id": "8d6780e8",
        "outputId": "0507a34e-ee84-4f7e-abef-a6b48ccf5a27"
      },
      "outputs": [
        {
          "name": "stdout",
          "output_type": "stream",
          "text": [
            "Epoch 1/10\n",
            "576/576 [==============================] - 82s 131ms/step - loss: 0.6151 - accuracy: 0.7402\n",
            "Epoch 2/10\n",
            "576/576 [==============================] - 75s 130ms/step - loss: 0.4343 - accuracy: 0.8305\n",
            "Epoch 3/10\n",
            "576/576 [==============================] - 77s 133ms/step - loss: 0.3927 - accuracy: 0.8458\n",
            "Epoch 4/10\n",
            "576/576 [==============================] - 76s 131ms/step - loss: 0.3667 - accuracy: 0.8574\n",
            "Epoch 5/10\n",
            "576/576 [==============================] - 66s 115ms/step - loss: 0.3481 - accuracy: 0.8659\n",
            "Epoch 6/10\n",
            "576/576 [==============================] - 70s 122ms/step - loss: 0.3270 - accuracy: 0.8727\n",
            "Epoch 7/10\n",
            "576/576 [==============================] - 74s 129ms/step - loss: 0.3049 - accuracy: 0.8836\n",
            "Epoch 8/10\n",
            "576/576 [==============================] - 76s 131ms/step - loss: 0.2915 - accuracy: 0.8855\n",
            "Epoch 9/10\n",
            "576/576 [==============================] - 76s 132ms/step - loss: 0.2783 - accuracy: 0.8930\n",
            "Epoch 10/10\n",
            "576/576 [==============================] - 78s 135ms/step - loss: 0.2600 - accuracy: 0.8979\n"
          ]
        },
        {
          "data": {
            "text/plain": [
              "<keras.src.callbacks.History at 0x2b3f57378e0>"
            ]
          },
          "execution_count": 123,
          "metadata": {},
          "output_type": "execute_result"
        }
      ],
      "source": [
        "model.fit(X_train, y_train, epochs = 10, batch_size=32, verbose = 1)"
      ]
    },
    {
      "cell_type": "code",
      "execution_count": null,
      "id": "6da8c187",
      "metadata": {
        "id": "6da8c187",
        "outputId": "18427e12-a7c8-4fbb-f152-c62dc280f6b7"
      },
      "outputs": [
        {
          "name": "stdout",
          "output_type": "stream",
          "text": [
            "284/284 [==============================] - 8s 25ms/step - loss: 0.5306 - accuracy: 0.8211\n",
            "score: 0.53\n",
            "acc: 0.82\n"
          ]
        }
      ],
      "source": [
        "score,acc = model.evaluate(X_test, y_test, verbose = 1, batch_size = 32)\n",
        "print(\"score: %.2f\" % (score))\n",
        "print(\"acc: %.2f\" % (acc))"
      ]
    },
    {
      "cell_type": "markdown",
      "id": "f180ef88",
      "metadata": {
        "id": "f180ef88"
      },
      "source": [
        "# Electricity load prediction"
      ]
    },
    {
      "cell_type": "code",
      "execution_count": null,
      "id": "4d942693",
      "metadata": {
        "id": "4d942693"
      },
      "outputs": [],
      "source": [
        "df = pd.read_csv('Electricity_load_forecasting.csv' )"
      ]
    },
    {
      "cell_type": "code",
      "execution_count": null,
      "id": "081bac03",
      "metadata": {
        "id": "081bac03",
        "outputId": "f0617ba4-9145-499a-bdcd-b6010266a24d"
      },
      "outputs": [
        {
          "data": {
            "text/html": [
              "<div>\n",
              "<style scoped>\n",
              "    .dataframe tbody tr th:only-of-type {\n",
              "        vertical-align: middle;\n",
              "    }\n",
              "\n",
              "    .dataframe tbody tr th {\n",
              "        vertical-align: top;\n",
              "    }\n",
              "\n",
              "    .dataframe thead th {\n",
              "        text-align: right;\n",
              "    }\n",
              "</style>\n",
              "<table border=\"1\" class=\"dataframe\">\n",
              "  <thead>\n",
              "    <tr style=\"text-align: right;\">\n",
              "      <th></th>\n",
              "      <th>datetime</th>\n",
              "      <th>nat_demand</th>\n",
              "      <th>T2M_toc</th>\n",
              "      <th>QV2M_toc</th>\n",
              "      <th>TQL_toc</th>\n",
              "      <th>W2M_toc</th>\n",
              "      <th>T2M_san</th>\n",
              "      <th>QV2M_san</th>\n",
              "      <th>TQL_san</th>\n",
              "      <th>W2M_san</th>\n",
              "      <th>T2M_dav</th>\n",
              "      <th>QV2M_dav</th>\n",
              "      <th>TQL_dav</th>\n",
              "      <th>W2M_dav</th>\n",
              "      <th>Holiday_ID</th>\n",
              "      <th>holiday</th>\n",
              "      <th>school</th>\n",
              "    </tr>\n",
              "  </thead>\n",
              "  <tbody>\n",
              "    <tr>\n",
              "      <th>0</th>\n",
              "      <td>03-01-2015 1:00</td>\n",
              "      <td>970.3450</td>\n",
              "      <td>25.865259</td>\n",
              "      <td>0.018576</td>\n",
              "      <td>0.016174</td>\n",
              "      <td>21.850546</td>\n",
              "      <td>23.482446</td>\n",
              "      <td>0.017272</td>\n",
              "      <td>0.001855</td>\n",
              "      <td>10.328949</td>\n",
              "      <td>22.662134</td>\n",
              "      <td>0.016562</td>\n",
              "      <td>0.096100</td>\n",
              "      <td>5.364148</td>\n",
              "      <td>0</td>\n",
              "      <td>0</td>\n",
              "      <td>0</td>\n",
              "    </tr>\n",
              "    <tr>\n",
              "      <th>1</th>\n",
              "      <td>03-01-2015 2:00</td>\n",
              "      <td>912.1755</td>\n",
              "      <td>25.899255</td>\n",
              "      <td>0.018653</td>\n",
              "      <td>0.016418</td>\n",
              "      <td>22.166944</td>\n",
              "      <td>23.399255</td>\n",
              "      <td>0.017265</td>\n",
              "      <td>0.001327</td>\n",
              "      <td>10.681517</td>\n",
              "      <td>22.578943</td>\n",
              "      <td>0.016509</td>\n",
              "      <td>0.087646</td>\n",
              "      <td>5.572471</td>\n",
              "      <td>0</td>\n",
              "      <td>0</td>\n",
              "      <td>0</td>\n",
              "    </tr>\n",
              "    <tr>\n",
              "      <th>2</th>\n",
              "      <td>03-01-2015 3:00</td>\n",
              "      <td>900.2688</td>\n",
              "      <td>25.937280</td>\n",
              "      <td>0.018768</td>\n",
              "      <td>0.015480</td>\n",
              "      <td>22.454911</td>\n",
              "      <td>23.343530</td>\n",
              "      <td>0.017211</td>\n",
              "      <td>0.001428</td>\n",
              "      <td>10.874924</td>\n",
              "      <td>22.531030</td>\n",
              "      <td>0.016479</td>\n",
              "      <td>0.078735</td>\n",
              "      <td>5.871184</td>\n",
              "      <td>0</td>\n",
              "      <td>0</td>\n",
              "      <td>0</td>\n",
              "    </tr>\n",
              "    <tr>\n",
              "      <th>3</th>\n",
              "      <td>03-01-2015 4:00</td>\n",
              "      <td>889.9538</td>\n",
              "      <td>25.957544</td>\n",
              "      <td>0.018890</td>\n",
              "      <td>0.016273</td>\n",
              "      <td>22.110481</td>\n",
              "      <td>23.238794</td>\n",
              "      <td>0.017128</td>\n",
              "      <td>0.002599</td>\n",
              "      <td>10.518620</td>\n",
              "      <td>22.512231</td>\n",
              "      <td>0.016487</td>\n",
              "      <td>0.068390</td>\n",
              "      <td>5.883621</td>\n",
              "      <td>0</td>\n",
              "      <td>0</td>\n",
              "      <td>0</td>\n",
              "    </tr>\n",
              "    <tr>\n",
              "      <th>4</th>\n",
              "      <td>03-01-2015 5:00</td>\n",
              "      <td>893.6865</td>\n",
              "      <td>25.973840</td>\n",
              "      <td>0.018981</td>\n",
              "      <td>0.017281</td>\n",
              "      <td>21.186089</td>\n",
              "      <td>23.075403</td>\n",
              "      <td>0.017059</td>\n",
              "      <td>0.001729</td>\n",
              "      <td>9.733589</td>\n",
              "      <td>22.481653</td>\n",
              "      <td>0.016456</td>\n",
              "      <td>0.064362</td>\n",
              "      <td>5.611724</td>\n",
              "      <td>0</td>\n",
              "      <td>0</td>\n",
              "      <td>0</td>\n",
              "    </tr>\n",
              "  </tbody>\n",
              "</table>\n",
              "</div>"
            ],
            "text/plain": [
              "          datetime  nat_demand    T2M_toc  QV2M_toc   TQL_toc    W2M_toc  \\\n",
              "0  03-01-2015 1:00    970.3450  25.865259  0.018576  0.016174  21.850546   \n",
              "1  03-01-2015 2:00    912.1755  25.899255  0.018653  0.016418  22.166944   \n",
              "2  03-01-2015 3:00    900.2688  25.937280  0.018768  0.015480  22.454911   \n",
              "3  03-01-2015 4:00    889.9538  25.957544  0.018890  0.016273  22.110481   \n",
              "4  03-01-2015 5:00    893.6865  25.973840  0.018981  0.017281  21.186089   \n",
              "\n",
              "     T2M_san  QV2M_san   TQL_san    W2M_san    T2M_dav  QV2M_dav   TQL_dav  \\\n",
              "0  23.482446  0.017272  0.001855  10.328949  22.662134  0.016562  0.096100   \n",
              "1  23.399255  0.017265  0.001327  10.681517  22.578943  0.016509  0.087646   \n",
              "2  23.343530  0.017211  0.001428  10.874924  22.531030  0.016479  0.078735   \n",
              "3  23.238794  0.017128  0.002599  10.518620  22.512231  0.016487  0.068390   \n",
              "4  23.075403  0.017059  0.001729   9.733589  22.481653  0.016456  0.064362   \n",
              "\n",
              "    W2M_dav  Holiday_ID  holiday  school  \n",
              "0  5.364148           0        0       0  \n",
              "1  5.572471           0        0       0  \n",
              "2  5.871184           0        0       0  \n",
              "3  5.883621           0        0       0  \n",
              "4  5.611724           0        0       0  "
            ]
          },
          "execution_count": 150,
          "metadata": {},
          "output_type": "execute_result"
        }
      ],
      "source": [
        "df.head()"
      ]
    },
    {
      "cell_type": "code",
      "execution_count": null,
      "id": "cd7e0936",
      "metadata": {
        "id": "cd7e0936",
        "outputId": "62c93f26-3df5-4a04-d5e9-00a7f72ee6c6"
      },
      "outputs": [
        {
          "data": {
            "text/plain": [
              "datetime      0\n",
              "nat_demand    0\n",
              "T2M_toc       0\n",
              "QV2M_toc      0\n",
              "TQL_toc       0\n",
              "W2M_toc       0\n",
              "T2M_san       0\n",
              "QV2M_san      0\n",
              "TQL_san       0\n",
              "W2M_san       0\n",
              "T2M_dav       0\n",
              "QV2M_dav      0\n",
              "TQL_dav       0\n",
              "W2M_dav       0\n",
              "Holiday_ID    0\n",
              "holiday       0\n",
              "school        0\n",
              "dtype: int64"
            ]
          },
          "execution_count": 151,
          "metadata": {},
          "output_type": "execute_result"
        }
      ],
      "source": [
        "df.isna().sum()"
      ]
    },
    {
      "cell_type": "code",
      "execution_count": null,
      "id": "4be966ff",
      "metadata": {
        "id": "4be966ff",
        "outputId": "50742867-9c63-4d2c-cb33-acecaa041ada"
      },
      "outputs": [
        {
          "data": {
            "text/plain": [
              "(43775, 17)"
            ]
          },
          "execution_count": 152,
          "metadata": {},
          "output_type": "execute_result"
        }
      ],
      "source": [
        "df.shape"
      ]
    },
    {
      "cell_type": "code",
      "execution_count": null,
      "id": "48ee5ffe",
      "metadata": {
        "id": "48ee5ffe",
        "outputId": "e051efed-27c7-48db-e3a3-c62b2674a95f"
      },
      "outputs": [
        {
          "data": {
            "image/png": "[encoded data removed]",
            "text/plain": [
              "<Figure size 640x480 with 1 Axes>"
            ]
          },
          "metadata": {},
          "output_type": "display_data"
        }
      ],
      "source": [
        "fig, ax = plt.subplots()\n",
        "ax.plot(df['datetime'], df['nat_demand'], color='darkgray', alpha=0.8, label='daily cases')\n",
        "ax.set_xlabel('Date')\n",
        "ax.set_ylabel('load')\n",
        "ax.set_title('load_demand')\n",
        "ax.set_xticks([i for i in list(df['datetime'])[::10]])\n",
        "plt.xticks(rotation = 90)\n",
        "plt.show()"
      ]
    },
    {
      "cell_type": "code",
      "execution_count": null,
      "id": "d718276b",
      "metadata": {
        "id": "d718276b"
      },
      "outputs": [],
      "source": [
        "columns_to_take = [i for i in df.columns if i not in ['datetime', 'nat_demand']]\n",
        "# columns_to_take = [i for i in covid.columns if i not in ['Date', 'Daily Confirmed', 'Cumulative Deaths', 'Tested positive demise','Intensive Care Unit (ICU)','Requires Oxygen Supplementation or Unstable','Perc population completed at least one dose', 'Perc population completed vaccination', 'Sinovac vaccine doses','Number taken booster shots', 'Perc population taken booster shots']]\n"
      ]
    },
    {
      "cell_type": "code",
      "execution_count": null,
      "id": "d3dba621",
      "metadata": {
        "id": "d3dba621"
      },
      "outputs": [],
      "source": [
        "X = df.loc[:, columns_to_take]\n",
        "y = df['nat_demand']"
      ]
    },
    {
      "cell_type": "code",
      "execution_count": null,
      "id": "564e60b9",
      "metadata": {
        "id": "564e60b9"
      },
      "outputs": [],
      "source": [
        "def make_lags(df, lags):\n",
        "    ret_df = pd.concat({f'lag_{i}_':df.shift(i) for i in range(1,lags+1)},axis=1)\n",
        "    columns = [''.join(col).strip() for col in ret_df.columns.values]\n",
        "    ret_df.columns = columns\n",
        "    return ret_df\n"
      ]
    },
    {
      "cell_type": "code",
      "execution_count": null,
      "id": "52e7407b",
      "metadata": {
        "id": "52e7407b"
      },
      "outputs": [],
      "source": [
        "X.dropna(inplace=True)\n",
        "y, X = y.align(X, join='inner')\n",
        "X = np.asarray(X).astype('float32')"
      ]
    },
    {
      "cell_type": "code",
      "execution_count": null,
      "id": "98378671",
      "metadata": {
        "id": "98378671"
      },
      "outputs": [],
      "source": [
        "X = pd.DataFrame(X)\n",
        "y = list(y)"
      ]
    },
    {
      "cell_type": "code",
      "execution_count": null,
      "id": "b849a1a0",
      "metadata": {
        "id": "b849a1a0"
      },
      "outputs": [],
      "source": [
        "time_stamp = 7\n",
        "\n",
        "new_data = []\n",
        "new_y = []\n",
        "\n",
        "for i in range(time_stamp, X.shape[0]):\n",
        "  row = list(X.iloc[i])\n",
        "  out = y[i]\n",
        "\n",
        "  new_data_temp = [row]\n",
        "  new_y.append(y[i])\n",
        "  for j in range(time_stamp-1):\n",
        "    row = list(X.iloc[i-j-1])\n",
        "    new_data_temp.append(row)\n",
        "\n",
        "  new_data_temp = np.array(new_data_temp)\n",
        "  new_data.append(new_data_temp)"
      ]
    },
    {
      "cell_type": "code",
      "execution_count": null,
      "id": "8777dd32",
      "metadata": {
        "id": "8777dd32",
        "outputId": "1429e147-e495-49c9-a091-5f53f1bde92a"
      },
      "outputs": [
        {
          "data": {
            "text/plain": [
              "((43768, 7, 15), 43768)"
            ]
          },
          "execution_count": 160,
          "metadata": {},
          "output_type": "execute_result"
        }
      ],
      "source": [
        "new_load = np.array(new_data)\n",
        "y = new_y\n",
        "new_load.shape, len(new_y)"
      ]
    },
    {
      "cell_type": "code",
      "execution_count": null,
      "id": "394fcde0",
      "metadata": {
        "id": "394fcde0"
      },
      "outputs": [],
      "source": [
        "input = Input(new_load.shape[1:])\n",
        "x = LSTM(100, return_sequences=True)(input)\n",
        "x = LSTM(100, return_sequences=True)(x)\n",
        "x = LSTM(100)(x)\n",
        "x = Dense(16)(x)\n",
        "x = Dense(8)(x)\n",
        "output = Dense(1, activation='linear')(x)\n",
        "model = Model(input,output)"
      ]
    },
    {
      "cell_type": "code",
      "execution_count": null,
      "id": "50262e2f",
      "metadata": {
        "id": "50262e2f",
        "outputId": "dad22858-98dd-4b4e-d221-03198802d920"
      },
      "outputs": [
        {
          "name": "stdout",
          "output_type": "stream",
          "text": [
            "Model: \"model_2\"\n",
            "_________________________________________________________________\n",
            " Layer (type)                Output Shape              Param #   \n",
            "=================================================================\n",
            " input_3 (InputLayer)        [(None, 7, 15)]           0         \n",
            "                                                                 \n",
            " lstm_4 (LSTM)               (None, 7, 100)            46400     \n",
            "                                                                 \n",
            " lstm_5 (LSTM)               (None, 7, 100)            80400     \n",
            "                                                                 \n",
            " lstm_6 (LSTM)               (None, 100)               80400     \n",
            "                                                                 \n",
            " dense_4 (Dense)             (None, 16)                1616      \n",
            "                                                                 \n",
            " dense_5 (Dense)             (None, 8)                 136       \n",
            "                                                                 \n",
            " dense_6 (Dense)             (None, 1)                 9         \n",
            "                                                                 \n",
            "=================================================================\n",
            "Total params: 208961 (816.25 KB)\n",
            "Trainable params: 208961 (816.25 KB)\n",
            "Non-trainable params: 0 (0.00 Byte)\n",
            "_________________________________________________________________\n"
          ]
        }
      ],
      "source": [
        "model.summary()"
      ]
    },
    {
      "cell_type": "code",
      "execution_count": null,
      "id": "f49d29f3",
      "metadata": {
        "id": "f49d29f3",
        "outputId": "0a022a4b-0d01-473a-e986-c2e8f662dd46"
      },
      "outputs": [
        {
          "name": "stdout",
          "output_type": "stream",
          "text": [
            "Epoch 1/50\n",
            "1368/1368 [==============================] - 46s 31ms/step - loss: 10665.9316\n",
            "Epoch 2/50\n",
            "1368/1368 [==============================] - 43s 31ms/step - loss: 10645.3281\n",
            "Epoch 3/50\n",
            "1368/1368 [==============================] - 40s 29ms/step - loss: 10620.8711\n",
            "Epoch 4/50\n",
            "1368/1368 [==============================] - 42s 31ms/step - loss: 10591.6416\n",
            "Epoch 5/50\n",
            "1368/1368 [==============================] - 42s 31ms/step - loss: 10595.3252\n",
            "Epoch 6/50\n",
            "1368/1368 [==============================] - 44s 32ms/step - loss: 10568.0205\n",
            "Epoch 7/50\n",
            "1368/1368 [==============================] - 49s 36ms/step - loss: 10503.0918\n",
            "Epoch 8/50\n",
            "1368/1368 [==============================] - 45s 33ms/step - loss: 10546.1494\n",
            "Epoch 9/50\n",
            "1368/1368 [==============================] - 45s 33ms/step - loss: 10451.1279\n",
            "Epoch 10/50\n",
            "1368/1368 [==============================] - 46s 34ms/step - loss: 10492.4482\n",
            "Epoch 11/50\n",
            "1368/1368 [==============================] - 46s 33ms/step - loss: 10427.0371\n",
            "Epoch 12/50\n",
            "1368/1368 [==============================] - 46s 33ms/step - loss: 10373.1953\n",
            "Epoch 13/50\n",
            "1368/1368 [==============================] - 46s 34ms/step - loss: 10389.0459\n",
            "Epoch 14/50\n",
            "1368/1368 [==============================] - 48s 35ms/step - loss: 10341.6152\n",
            "Epoch 15/50\n",
            "1368/1368 [==============================] - 47s 34ms/step - loss: 10305.4326\n",
            "Epoch 16/50\n",
            "1368/1368 [==============================] - 46s 34ms/step - loss: 10297.2510\n",
            "Epoch 17/50\n",
            "1368/1368 [==============================] - 46s 34ms/step - loss: 10267.0996\n",
            "Epoch 18/50\n",
            "1368/1368 [==============================] - 47s 35ms/step - loss: 10265.4170\n",
            "Epoch 19/50\n",
            "1368/1368 [==============================] - 47s 34ms/step - loss: 10274.4658\n",
            "Epoch 20/50\n",
            "1368/1368 [==============================] - 53s 39ms/step - loss: 10250.0586\n",
            "Epoch 21/50\n",
            "1368/1368 [==============================] - 78s 57ms/step - loss: 10223.3154\n",
            "Epoch 22/50\n",
            "1368/1368 [==============================] - 64s 47ms/step - loss: 10161.7500\n",
            "Epoch 23/50\n",
            "1368/1368 [==============================] - 63s 46ms/step - loss: 10180.8164\n",
            "Epoch 24/50\n",
            "1368/1368 [==============================] - 62s 45ms/step - loss: 10108.3105\n",
            "Epoch 25/50\n",
            "1368/1368 [==============================] - 62s 45ms/step - loss: 10086.6230\n",
            "Epoch 26/50\n",
            "1368/1368 [==============================] - 66s 48ms/step - loss: 10117.0723\n",
            "Epoch 27/50\n",
            "1368/1368 [==============================] - 68s 50ms/step - loss: 10107.8301\n",
            "Epoch 28/50\n",
            "1368/1368 [==============================] - 70s 51ms/step - loss: 10070.3086\n",
            "Epoch 29/50\n",
            "1368/1368 [==============================] - 70s 51ms/step - loss: 10045.4160\n",
            "Epoch 30/50\n",
            "1368/1368 [==============================] - 70s 51ms/step - loss: 9995.8916\n",
            "Epoch 31/50\n",
            "1368/1368 [==============================] - 80s 59ms/step - loss: 10024.2979\n",
            "Epoch 32/50\n",
            "1368/1368 [==============================] - 67s 49ms/step - loss: 9977.9355\n",
            "Epoch 33/50\n",
            "1368/1368 [==============================] - 67s 49ms/step - loss: 9945.5010\n",
            "Epoch 34/50\n",
            "1368/1368 [==============================] - 67s 49ms/step - loss: 9925.2793\n",
            "Epoch 35/50\n",
            "1368/1368 [==============================] - 69s 50ms/step - loss: 9912.1240\n",
            "Epoch 36/50\n",
            "1368/1368 [==============================] - 69s 50ms/step - loss: 9901.8984\n",
            "Epoch 37/50\n",
            "1368/1368 [==============================] - 68s 50ms/step - loss: 9850.7422\n",
            "Epoch 38/50\n",
            "1368/1368 [==============================] - 69s 50ms/step - loss: 9830.1875\n",
            "Epoch 39/50\n",
            "1368/1368 [==============================] - 69s 50ms/step - loss: 9802.8760\n",
            "Epoch 40/50\n",
            "1368/1368 [==============================] - 70s 51ms/step - loss: 9751.0527\n",
            "Epoch 41/50\n",
            "1368/1368 [==============================] - 82s 60ms/step - loss: 9798.5918\n",
            "Epoch 42/50\n",
            "1368/1368 [==============================] - 69s 50ms/step - loss: 9770.9404\n",
            "Epoch 43/50\n",
            "1368/1368 [==============================] - 69s 51ms/step - loss: 9722.5039\n",
            "Epoch 44/50\n",
            "1368/1368 [==============================] - 69s 51ms/step - loss: 9681.3467\n",
            "Epoch 45/50\n",
            "1368/1368 [==============================] - 70s 51ms/step - loss: 9686.2734\n",
            "Epoch 46/50\n",
            "1368/1368 [==============================] - 70s 51ms/step - loss: 9643.7637\n",
            "Epoch 47/50\n",
            "1368/1368 [==============================] - 70s 51ms/step - loss: 9638.6367\n",
            "Epoch 48/50\n",
            "1368/1368 [==============================] - 71s 52ms/step - loss: 9651.9375\n",
            "Epoch 49/50\n",
            "1368/1368 [==============================] - 71s 52ms/step - loss: 9594.0957\n",
            "Epoch 50/50\n",
            "1368/1368 [==============================] - 82s 60ms/step - loss: 9538.1133\n"
          ]
        },
        {
          "data": {
            "text/plain": [
              "<keras.src.callbacks.History at 0x2b389e8a9a0>"
            ]
          },
          "execution_count": 178,
          "metadata": {},
          "output_type": "execute_result"
        }
      ],
      "source": [
        "model.compile(loss='mean_squared_error', optimizer='adam')\n",
        "model.fit(new_load, np.array(y), epochs=50)"
      ]
    },
    {
      "cell_type": "code",
      "execution_count": null,
      "id": "33789980",
      "metadata": {
        "id": "33789980",
        "outputId": "4a57875c-9253-405c-ae57-df8ae9705269"
      },
      "outputs": [
        {
          "name": "stdout",
          "output_type": "stream",
          "text": [
            "1368/1368 [==============================] - 20s 14ms/step\n"
          ]
        },
        {
          "data": {
            "image/png": "[encoded data removed]",
            "text/plain": [
              "<Figure size 640x480 with 1 Axes>"
            ]
          },
          "metadata": {},
          "output_type": "display_data"
        }
      ],
      "source": [
        "y_pred = pd.Series(model.predict(new_load)[:,0])\n",
        "\n",
        "# plotting\n",
        "fig, ax = plt.subplots()\n",
        "fig.autofmt_xdate()\n",
        "ax.plot(df['datetime'], df['nat_demand'], color='darkgray', alpha=0.8, label='hourly_load')\n",
        "ax.plot(y_pred, color='mediumblue', label='predicted', alpha= 0.5)\n",
        "plt.legend()\n",
        "ax.set_xticks([i for i in\n",
        "\n",
        "\n",
        "\n",
        "\n",
        "               list(df['datetime'])[::40]])\n",
        "plt.xticks(rotation = 60)\n",
        "plt.show()"
      ]
    },
    {
      "cell_type": "code",
      "execution_count": null,
      "id": "9c51ce80",
      "metadata": {
        "id": "9c51ce80"
      },
      "outputs": [],
      "source": []
    }
  ],
  "metadata": {
    "kernelspec": {
      "display_name": "Python 3 (ipykernel)",
      "language": "python",
      "name": "python3"
    },
    "language_info": {
      "codemirror_mode": {
        "name": "ipython",
        "version": 3
      },
      "file_extension": ".py",
      "mimetype": "text/x-python",
      "name": "python",
      "nbconvert_exporter": "python",
      "pygments_lexer": "ipython3",
      "version": "3.9.13"
    },
    "colab": {
      "provenance": [],
      "include_colab_link": true
    }
  },
  "nbformat": 4,
  "nbformat_minor": 5
}